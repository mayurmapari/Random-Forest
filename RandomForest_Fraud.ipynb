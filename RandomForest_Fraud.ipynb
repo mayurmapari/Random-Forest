{
 "cells": [
  {
   "cell_type": "markdown",
   "id": "a1d0e852",
   "metadata": {},
   "source": [
    "# Random Forest Assignment"
   ]
  },
  {
   "cell_type": "markdown",
   "id": "64b62dce",
   "metadata": {},
   "source": [
    "## Importing Libraries"
   ]
  },
  {
   "cell_type": "code",
   "execution_count": 1,
   "id": "331c4090",
   "metadata": {},
   "outputs": [],
   "source": [
    "import pandas as pd\n",
    "import numpy as np\n",
    "import matplotlib.pyplot as plt\n",
    "import seaborn as sns"
   ]
  },
  {
   "cell_type": "markdown",
   "id": "b7f6bab0",
   "metadata": {},
   "source": [
    "## Loading Dataset"
   ]
  },
  {
   "cell_type": "code",
   "execution_count": 2,
   "id": "b150dcfc",
   "metadata": {},
   "outputs": [],
   "source": [
    "df = pd.read_csv(\"Fraud_check.csv\")"
   ]
  },
  {
   "cell_type": "markdown",
   "id": "8f638abf",
   "metadata": {},
   "source": [
    "## Data Understanding"
   ]
  },
  {
   "cell_type": "code",
   "execution_count": 3,
   "id": "94383404",
   "metadata": {},
   "outputs": [
    {
     "data": {
      "text/html": [
       "<div>\n",
       "<style scoped>\n",
       "    .dataframe tbody tr th:only-of-type {\n",
       "        vertical-align: middle;\n",
       "    }\n",
       "\n",
       "    .dataframe tbody tr th {\n",
       "        vertical-align: top;\n",
       "    }\n",
       "\n",
       "    .dataframe thead th {\n",
       "        text-align: right;\n",
       "    }\n",
       "</style>\n",
       "<table border=\"1\" class=\"dataframe\">\n",
       "  <thead>\n",
       "    <tr style=\"text-align: right;\">\n",
       "      <th></th>\n",
       "      <th>Undergrad</th>\n",
       "      <th>Marital.Status</th>\n",
       "      <th>Taxable.Income</th>\n",
       "      <th>City.Population</th>\n",
       "      <th>Work.Experience</th>\n",
       "      <th>Urban</th>\n",
       "    </tr>\n",
       "  </thead>\n",
       "  <tbody>\n",
       "    <tr>\n",
       "      <th>0</th>\n",
       "      <td>NO</td>\n",
       "      <td>Single</td>\n",
       "      <td>68833</td>\n",
       "      <td>50047</td>\n",
       "      <td>10</td>\n",
       "      <td>YES</td>\n",
       "    </tr>\n",
       "    <tr>\n",
       "      <th>1</th>\n",
       "      <td>YES</td>\n",
       "      <td>Divorced</td>\n",
       "      <td>33700</td>\n",
       "      <td>134075</td>\n",
       "      <td>18</td>\n",
       "      <td>YES</td>\n",
       "    </tr>\n",
       "    <tr>\n",
       "      <th>2</th>\n",
       "      <td>NO</td>\n",
       "      <td>Married</td>\n",
       "      <td>36925</td>\n",
       "      <td>160205</td>\n",
       "      <td>30</td>\n",
       "      <td>YES</td>\n",
       "    </tr>\n",
       "    <tr>\n",
       "      <th>3</th>\n",
       "      <td>YES</td>\n",
       "      <td>Single</td>\n",
       "      <td>50190</td>\n",
       "      <td>193264</td>\n",
       "      <td>15</td>\n",
       "      <td>YES</td>\n",
       "    </tr>\n",
       "    <tr>\n",
       "      <th>4</th>\n",
       "      <td>NO</td>\n",
       "      <td>Married</td>\n",
       "      <td>81002</td>\n",
       "      <td>27533</td>\n",
       "      <td>28</td>\n",
       "      <td>NO</td>\n",
       "    </tr>\n",
       "  </tbody>\n",
       "</table>\n",
       "</div>"
      ],
      "text/plain": [
       "  Undergrad Marital.Status  Taxable.Income  City.Population  Work.Experience  \\\n",
       "0        NO         Single           68833            50047               10   \n",
       "1       YES       Divorced           33700           134075               18   \n",
       "2        NO        Married           36925           160205               30   \n",
       "3       YES         Single           50190           193264               15   \n",
       "4        NO        Married           81002            27533               28   \n",
       "\n",
       "  Urban  \n",
       "0   YES  \n",
       "1   YES  \n",
       "2   YES  \n",
       "3   YES  \n",
       "4    NO  "
      ]
     },
     "execution_count": 3,
     "metadata": {},
     "output_type": "execute_result"
    }
   ],
   "source": [
    "df.head()"
   ]
  },
  {
   "cell_type": "code",
   "execution_count": 4,
   "id": "52e6b18e",
   "metadata": {},
   "outputs": [
    {
     "data": {
      "text/plain": [
       "(600, 6)"
      ]
     },
     "execution_count": 4,
     "metadata": {},
     "output_type": "execute_result"
    }
   ],
   "source": [
    "df.shape"
   ]
  },
  {
   "cell_type": "code",
   "execution_count": 5,
   "id": "671c2d89",
   "metadata": {},
   "outputs": [
    {
     "data": {
      "text/plain": [
       "Undergrad          0\n",
       "Marital.Status     0\n",
       "Taxable.Income     0\n",
       "City.Population    0\n",
       "Work.Experience    0\n",
       "Urban              0\n",
       "dtype: int64"
      ]
     },
     "execution_count": 5,
     "metadata": {},
     "output_type": "execute_result"
    }
   ],
   "source": [
    "df.isnull().sum()"
   ]
  },
  {
   "cell_type": "code",
   "execution_count": 6,
   "id": "7ef8f031",
   "metadata": {},
   "outputs": [
    {
     "data": {
      "text/html": [
       "<div>\n",
       "<style scoped>\n",
       "    .dataframe tbody tr th:only-of-type {\n",
       "        vertical-align: middle;\n",
       "    }\n",
       "\n",
       "    .dataframe tbody tr th {\n",
       "        vertical-align: top;\n",
       "    }\n",
       "\n",
       "    .dataframe thead th {\n",
       "        text-align: right;\n",
       "    }\n",
       "</style>\n",
       "<table border=\"1\" class=\"dataframe\">\n",
       "  <thead>\n",
       "    <tr style=\"text-align: right;\">\n",
       "      <th></th>\n",
       "      <th>Taxable.Income</th>\n",
       "      <th>City.Population</th>\n",
       "      <th>Work.Experience</th>\n",
       "    </tr>\n",
       "  </thead>\n",
       "  <tbody>\n",
       "    <tr>\n",
       "      <th>count</th>\n",
       "      <td>600.000000</td>\n",
       "      <td>600.000000</td>\n",
       "      <td>600.000000</td>\n",
       "    </tr>\n",
       "    <tr>\n",
       "      <th>mean</th>\n",
       "      <td>55208.375000</td>\n",
       "      <td>108747.368333</td>\n",
       "      <td>15.558333</td>\n",
       "    </tr>\n",
       "    <tr>\n",
       "      <th>std</th>\n",
       "      <td>26204.827597</td>\n",
       "      <td>49850.075134</td>\n",
       "      <td>8.842147</td>\n",
       "    </tr>\n",
       "    <tr>\n",
       "      <th>min</th>\n",
       "      <td>10003.000000</td>\n",
       "      <td>25779.000000</td>\n",
       "      <td>0.000000</td>\n",
       "    </tr>\n",
       "    <tr>\n",
       "      <th>25%</th>\n",
       "      <td>32871.500000</td>\n",
       "      <td>66966.750000</td>\n",
       "      <td>8.000000</td>\n",
       "    </tr>\n",
       "    <tr>\n",
       "      <th>50%</th>\n",
       "      <td>55074.500000</td>\n",
       "      <td>106493.500000</td>\n",
       "      <td>15.000000</td>\n",
       "    </tr>\n",
       "    <tr>\n",
       "      <th>75%</th>\n",
       "      <td>78611.750000</td>\n",
       "      <td>150114.250000</td>\n",
       "      <td>24.000000</td>\n",
       "    </tr>\n",
       "    <tr>\n",
       "      <th>max</th>\n",
       "      <td>99619.000000</td>\n",
       "      <td>199778.000000</td>\n",
       "      <td>30.000000</td>\n",
       "    </tr>\n",
       "  </tbody>\n",
       "</table>\n",
       "</div>"
      ],
      "text/plain": [
       "       Taxable.Income  City.Population  Work.Experience\n",
       "count      600.000000       600.000000       600.000000\n",
       "mean     55208.375000    108747.368333        15.558333\n",
       "std      26204.827597     49850.075134         8.842147\n",
       "min      10003.000000     25779.000000         0.000000\n",
       "25%      32871.500000     66966.750000         8.000000\n",
       "50%      55074.500000    106493.500000        15.000000\n",
       "75%      78611.750000    150114.250000        24.000000\n",
       "max      99619.000000    199778.000000        30.000000"
      ]
     },
     "execution_count": 6,
     "metadata": {},
     "output_type": "execute_result"
    }
   ],
   "source": [
    "df.describe()"
   ]
  },
  {
   "cell_type": "markdown",
   "id": "7ae467f2",
   "metadata": {},
   "source": [
    "## Converting a categorical data into numerical using Label Encoding"
   ]
  },
  {
   "cell_type": "code",
   "execution_count": 7,
   "id": "6541f3d1",
   "metadata": {},
   "outputs": [],
   "source": [
    "from sklearn import preprocessing\n",
    "from sklearn.preprocessing import LabelEncoder"
   ]
  },
  {
   "cell_type": "code",
   "execution_count": 8,
   "id": "300a6211",
   "metadata": {},
   "outputs": [],
   "source": [
    "LabelEncoder = preprocessing.LabelEncoder()\n",
    "df['Undergrad'] = LabelEncoder.fit_transform(df['Undergrad'])\n",
    "df['Marital.Status'] = LabelEncoder.fit_transform(df['Marital.Status'])\n",
    "df['Urban'] = LabelEncoder.fit_transform(df['Urban'])"
   ]
  },
  {
   "cell_type": "code",
   "execution_count": 9,
   "id": "9ec85509",
   "metadata": {},
   "outputs": [
    {
     "data": {
      "text/html": [
       "<div>\n",
       "<style scoped>\n",
       "    .dataframe tbody tr th:only-of-type {\n",
       "        vertical-align: middle;\n",
       "    }\n",
       "\n",
       "    .dataframe tbody tr th {\n",
       "        vertical-align: top;\n",
       "    }\n",
       "\n",
       "    .dataframe thead th {\n",
       "        text-align: right;\n",
       "    }\n",
       "</style>\n",
       "<table border=\"1\" class=\"dataframe\">\n",
       "  <thead>\n",
       "    <tr style=\"text-align: right;\">\n",
       "      <th></th>\n",
       "      <th>Undergrad</th>\n",
       "      <th>Marital.Status</th>\n",
       "      <th>Taxable.Income</th>\n",
       "      <th>City.Population</th>\n",
       "      <th>Work.Experience</th>\n",
       "      <th>Urban</th>\n",
       "    </tr>\n",
       "  </thead>\n",
       "  <tbody>\n",
       "    <tr>\n",
       "      <th>0</th>\n",
       "      <td>0</td>\n",
       "      <td>2</td>\n",
       "      <td>68833</td>\n",
       "      <td>50047</td>\n",
       "      <td>10</td>\n",
       "      <td>1</td>\n",
       "    </tr>\n",
       "    <tr>\n",
       "      <th>1</th>\n",
       "      <td>1</td>\n",
       "      <td>0</td>\n",
       "      <td>33700</td>\n",
       "      <td>134075</td>\n",
       "      <td>18</td>\n",
       "      <td>1</td>\n",
       "    </tr>\n",
       "    <tr>\n",
       "      <th>2</th>\n",
       "      <td>0</td>\n",
       "      <td>1</td>\n",
       "      <td>36925</td>\n",
       "      <td>160205</td>\n",
       "      <td>30</td>\n",
       "      <td>1</td>\n",
       "    </tr>\n",
       "    <tr>\n",
       "      <th>3</th>\n",
       "      <td>1</td>\n",
       "      <td>2</td>\n",
       "      <td>50190</td>\n",
       "      <td>193264</td>\n",
       "      <td>15</td>\n",
       "      <td>1</td>\n",
       "    </tr>\n",
       "    <tr>\n",
       "      <th>4</th>\n",
       "      <td>0</td>\n",
       "      <td>1</td>\n",
       "      <td>81002</td>\n",
       "      <td>27533</td>\n",
       "      <td>28</td>\n",
       "      <td>0</td>\n",
       "    </tr>\n",
       "  </tbody>\n",
       "</table>\n",
       "</div>"
      ],
      "text/plain": [
       "   Undergrad  Marital.Status  Taxable.Income  City.Population  \\\n",
       "0          0               2           68833            50047   \n",
       "1          1               0           33700           134075   \n",
       "2          0               1           36925           160205   \n",
       "3          1               2           50190           193264   \n",
       "4          0               1           81002            27533   \n",
       "\n",
       "   Work.Experience  Urban  \n",
       "0               10      1  \n",
       "1               18      1  \n",
       "2               30      1  \n",
       "3               15      1  \n",
       "4               28      0  "
      ]
     },
     "execution_count": 9,
     "metadata": {},
     "output_type": "execute_result"
    }
   ],
   "source": [
    "df.head()"
   ]
  },
  {
   "cell_type": "markdown",
   "id": "57d7534c",
   "metadata": {},
   "source": [
    "## Splitting a data into features and target"
   ]
  },
  {
   "cell_type": "code",
   "execution_count": 13,
   "id": "3ae86681",
   "metadata": {},
   "outputs": [],
   "source": [
    "X = df.drop(labels='Taxable.Income',axis=1)\n",
    "y = df['Taxable.Income']"
   ]
  },
  {
   "cell_type": "code",
   "execution_count": 14,
   "id": "ca1238e7",
   "metadata": {},
   "outputs": [],
   "source": [
    "from sklearn.model_selection import train_test_split\n",
    "X_train, X_test, y_train, y_test = train_test_split(X,y, random_state=42)"
   ]
  },
  {
   "cell_type": "code",
   "execution_count": 30,
   "id": "fdb6624c",
   "metadata": {},
   "outputs": [],
   "source": [
    "from sklearn.ensemble import RandomForestRegressor\n",
    "RFReg = RandomForestRegressor(n_estimators = 100, random_state = 42)"
   ]
  },
  {
   "cell_type": "code",
   "execution_count": 31,
   "id": "bd434fc8",
   "metadata": {},
   "outputs": [
    {
     "data": {
      "text/plain": [
       "RandomForestRegressor(random_state=42)"
      ]
     },
     "execution_count": 31,
     "metadata": {},
     "output_type": "execute_result"
    }
   ],
   "source": [
    "RFReg.fit(X_train, y_train)"
   ]
  },
  {
   "cell_type": "code",
   "execution_count": 32,
   "id": "f950c7d2",
   "metadata": {},
   "outputs": [],
   "source": [
    "y_pred = RFReg.predict(X_test)"
   ]
  },
  {
   "cell_type": "code",
   "execution_count": 33,
   "id": "a931d671",
   "metadata": {},
   "outputs": [
    {
     "data": {
      "text/plain": [
       "array([54543.92, 43137.03, 73366.45, 58235.68, 46580.09, 76288.68,\n",
       "       66312.15, 51570.02, 51634.69, 65017.71, 62918.11, 53691.57,\n",
       "       66406.49, 49824.63, 49327.12, 52915.28, 50699.64, 51401.88,\n",
       "       43221.33, 60270.21, 58067.93, 66999.72, 44129.89, 64302.59,\n",
       "       46184.97, 57884.96, 52499.65, 50208.74, 45754.51, 58346.89,\n",
       "       50592.52, 55425.22, 57619.78, 54204.71, 44428.06, 67332.22,\n",
       "       59415.75, 50621.25, 64168.15, 59122.48, 39199.42, 60011.77,\n",
       "       44627.32, 80741.13, 65716.53, 63599.06, 62382.44, 68698.12,\n",
       "       50876.47, 63791.48, 65663.45, 69917.24, 50628.35, 60891.91,\n",
       "       37965.93, 71480.9 , 70660.73, 49605.66, 48537.73, 65834.35,\n",
       "       34207.25, 49400.25, 52426.27, 50134.55, 64235.02, 67129.51,\n",
       "       56918.61, 51615.11, 60933.28, 48494.68, 49085.67, 63470.51,\n",
       "       47949.34, 72751.92, 52267.31, 56811.58, 43288.68, 73277.26,\n",
       "       68769.36, 56668.83, 47582.24, 62323.15, 53008.56, 54412.06,\n",
       "       51709.54, 48536.38, 44234.66, 52223.64, 64383.08, 41711.68,\n",
       "       48542.37, 62153.32, 41346.68, 47144.85, 36555.29, 62345.02,\n",
       "       61436.19, 45880.2 , 56214.8 , 48415.65, 55967.7 , 61596.6 ,\n",
       "       48718.01, 44391.72, 77860.16, 65666.42, 62383.99, 74449.27,\n",
       "       62424.93, 66185.56, 70770.04, 58446.68, 63986.36, 78291.76,\n",
       "       63522.6 , 47758.46, 48700.03, 49455.42, 58641.35, 63047.24,\n",
       "       36593.97, 67223.44, 45101.99, 53834.05, 62909.72, 52803.41,\n",
       "       55401.69, 49914.34, 53124.03, 47278.62, 61698.64, 48540.57,\n",
       "       68392.5 , 61275.05, 56708.22, 56397.64, 48439.81, 48351.05,\n",
       "       62051.79, 62411.96, 53153.82, 69726.77, 72248.07, 44615.3 ,\n",
       "       49301.05, 64704.12, 51137.2 , 70832.97, 60328.73, 75349.2 ])"
      ]
     },
     "execution_count": 33,
     "metadata": {},
     "output_type": "execute_result"
    }
   ],
   "source": [
    "y_pred"
   ]
  },
  {
   "cell_type": "code",
   "execution_count": 34,
   "id": "e653f3b8",
   "metadata": {},
   "outputs": [],
   "source": [
    "from sklearn import metrics"
   ]
  },
  {
   "cell_type": "code",
   "execution_count": 35,
   "id": "d15680f9",
   "metadata": {},
   "outputs": [],
   "source": [
    "r_square = metrics.r2_score(y_test, y_pred)"
   ]
  },
  {
   "cell_type": "code",
   "execution_count": 36,
   "id": "7f840fea",
   "metadata": {},
   "outputs": [
    {
     "data": {
      "text/plain": [
       "-0.1761631765915903"
      ]
     },
     "execution_count": 36,
     "metadata": {},
     "output_type": "execute_result"
    }
   ],
   "source": [
    "r_square"
   ]
  },
  {
   "cell_type": "code",
   "execution_count": 37,
   "id": "9396ecac",
   "metadata": {},
   "outputs": [
    {
     "data": {
      "text/plain": [
       "[<matplotlib.lines.Line2D at 0x10fb9f97c10>]"
      ]
     },
     "execution_count": 37,
     "metadata": {},
     "output_type": "execute_result"
    },
    {
     "data": {
      "image/png": "[encoded data removed]",
      "text/plain": [
       "<Figure size 432x288 with 1 Axes>"
      ]
     },
     "metadata": {
      "needs_background": "light"
     },
     "output_type": "display_data"
    }
   ],
   "source": [
    "# Try different numbers of n_estimators - this will take a minute or so\n",
    "estimators = np.arange(10, 150, 10)\n",
    "scores = []\n",
    "for n in estimators:\n",
    "    RFReg.set_params(n_estimators=n)\n",
    "    RFReg.fit(X_train, y_train)\n",
    "    scores.append(RFReg.score(X_test, y_test))\n",
    "plt.title(\"Effect of n_estimators\")\n",
    "plt.xlabel(\"n_estimator\")\n",
    "plt.ylabel(\"score\")\n",
    "plt.plot(estimators, scores)"
   ]
  }
 ],
 "metadata": {
  "kernelspec": {
   "display_name": "Python 3 (ipykernel)",
   "language": "python",
   "name": "python3"
  },
  "language_info": {
   "codemirror_mode": {
    "name": "ipython",
    "version": 3
   },
   "file_extension": ".py",
   "mimetype": "text/x-python",
   "name": "python",
   "nbconvert_exporter": "python",
   "pygments_lexer": "ipython3",
   "version": "3.9.7"
  }
 },
 "nbformat": 4,
 "nbformat_minor": 5
}
